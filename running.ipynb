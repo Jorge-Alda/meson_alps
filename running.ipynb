{
 "cells": [
  {
   "cell_type": "code",
   "execution_count": 7,
   "id": "258c9192-08ec-4180-9740-7b9c0a00ec05",
   "metadata": {},
   "outputs": [],
   "source": [
    "from formulas.running import *\n",
    "import wilson\n",
    "import numpy as np"
   ]
  },
  {
   "cell_type": "markdown",
   "id": "83c5af59-9e1e-45f6-9514-1ceb63837b19",
   "metadata": {},
   "source": [
    "# Running in the High-energy theory"
   ]
  },
  {
   "cell_type": "markdown",
   "id": "7a1c3404-4e2e-41f5-97d3-cdca6a40c4b8",
   "metadata": {},
   "source": [
    "## $c_{uR}$"
   ]
  },
  {
   "cell_type": "code",
   "execution_count": 2,
   "id": "134eee4f-5068-4c6d-8217-a211ab9e7ca3",
   "metadata": {},
   "outputs": [
    {
     "name": "stderr",
     "output_type": "stream",
     "text": [
      "/home/jorge/.local/lib/python3.12/site-packages/ckmutil/ckm.py:23: ComplexWarning: Casting complex values to real discards the imaginary part\n",
      "  c12 = cos(t12)\n",
      "/home/jorge/.local/lib/python3.12/site-packages/ckmutil/ckm.py:25: ComplexWarning: Casting complex values to real discards the imaginary part\n",
      "  c23 = cos(t23)\n",
      "/home/jorge/.local/lib/python3.12/site-packages/ckmutil/ckm.py:26: ComplexWarning: Casting complex values to real discards the imaginary part\n",
      "  s12 = sin(t12)\n",
      "/home/jorge/.local/lib/python3.12/site-packages/ckmutil/ckm.py:28: ComplexWarning: Casting complex values to real discards the imaginary part\n",
      "  s23 = sin(t23)\n"
     ]
    }
   ],
   "source": [
    "clow_uR = match_run({'cuR': 1.0}, 5000, 1000)"
   ]
  },
  {
   "cell_type": "code",
   "execution_count": 3,
   "id": "2edb57d9-ceda-42b2-85cc-9a6c3f1cae55",
   "metadata": {},
   "outputs": [],
   "source": [
    "clow_ur_ll = match_run({'cuR': 1.0}, 5000, 1000, True)"
   ]
  },
  {
   "cell_type": "code",
   "execution_count": 4,
   "id": "43a7aaca-7ff2-4dcd-b24c-4f15d1acb037",
   "metadata": {},
   "outputs": [
    {
     "data": {
      "text/plain": [
       "{'cqL': matrix([[ 7.39308109e-03-1.06254788e-23j,\n",
       "          -4.15223158e-06-1.73282704e-06j,\n",
       "           1.02643979e-04+4.10225154e-05j],\n",
       "         [-4.15223158e-06+1.73282704e-06j,\n",
       "           7.41261986e-03+1.40687142e-23j,\n",
       "          -5.04057747e-04+9.44166042e-06j],\n",
       "         [ 1.02643979e-04-4.10225154e-05j,\n",
       "          -5.04057747e-04-9.44166042e-06j,\n",
       "           1.98844451e-02-1.18203026e-25j]]),\n",
       " 'cuR': matrix([[ 9.17503255e-01-6.95823650e-23j,\n",
       "           4.44781661e-21-5.66718491e-21j,\n",
       "          -1.18393835e-15+3.86264272e-15j],\n",
       "         [ 4.44781661e-21+5.66718491e-21j,\n",
       "           9.17502875e-01-6.95820704e-23j,\n",
       "          -2.36199592e-11+5.68580608e-16j],\n",
       "         [-1.18393835e-15-3.86264272e-15j,\n",
       "          -2.36199592e-11-5.68580608e-16j,\n",
       "           8.92476111e-01+5.36483361e-24j]]),\n",
       " 'cdR': matrix([[ 6.76828423e-02+6.93412809e-23j,\n",
       "          -3.11082936e-16-1.29833364e-16j,\n",
       "           4.08219524e-13+1.63148047e-13j],\n",
       "         [-3.11082936e-16+1.29833364e-16j,\n",
       "           6.76828422e-02+6.93412809e-23j,\n",
       "          -4.09116022e-11+7.66327484e-13j],\n",
       "         [ 4.08219524e-13-1.63148047e-13j,\n",
       "          -4.09116022e-11-7.66327484e-13j,\n",
       "           6.76826349e-02+6.93410871e-23j]]),\n",
       " 'clL': matrix([[8.90133941e-06+3.75032367e-27j, 0.00000000e+00+0.00000000e+00j,\n",
       "          0.00000000e+00+0.00000000e+00j],\n",
       "         [0.00000000e+00-0.00000000e+00j, 8.90147443e-06+3.75040394e-27j,\n",
       "          0.00000000e+00+0.00000000e+00j],\n",
       "         [0.00000000e+00-0.00000000e+00j, 0.00000000e+00-0.00000000e+00j,\n",
       "          8.93950041e-06+3.77301116e-27j]]),\n",
       " 'ceR': matrix([[0.07503436+6.94617047e-23j, 0.        +0.00000000e+00j,\n",
       "          0.        +0.00000000e+00j],\n",
       "         [0.        -0.00000000e+00j, 0.07503436+6.94617045e-23j,\n",
       "          0.        +0.00000000e+00j],\n",
       "         [0.        -0.00000000e+00j, 0.        -0.00000000e+00j,\n",
       "          0.07503428+6.94616593e-23j]]),\n",
       " 'cg': 0j,\n",
       " 'cW': 0j,\n",
       " 'cB': 0j}"
      ]
     },
     "execution_count": 4,
     "metadata": {},
     "output_type": "execute_result"
    }
   ],
   "source": [
    "clow_uR"
   ]
  },
  {
   "cell_type": "code",
   "execution_count": 5,
   "id": "3021d735-fb86-4122-a77c-82fb6e5cfb4b",
   "metadata": {},
   "outputs": [
    {
     "data": {
      "text/plain": [
       "{'cqL': matrix([[ 7.27986493e-03+0.00000000e+00j,\n",
       "          -4.37780375e-06-1.82741205e-06j,\n",
       "           1.08113684e-04+4.32083267e-05j],\n",
       "         [-4.37780375e-06+1.82741205e-06j,\n",
       "           7.30046571e-03+0.00000000e+00j,\n",
       "          -5.30917034e-04+9.94475873e-06j],\n",
       "         [ 1.08113684e-04-4.32083267e-05j,\n",
       "          -5.30917034e-04-9.94475873e-06j,\n",
       "           2.04204690e-02+0.00000000e+00j]]),\n",
       " 'cuR': matrix([[9.13715169e-01-3.79843521e-22j, 9.17458924e-26+5.30201262e-27j,\n",
       "          4.43799975e-24+3.37221175e-24j],\n",
       "         [9.17458924e-26-5.30201262e-27j, 9.13714778e-01-3.79843521e-22j,\n",
       "          8.95323755e-19+3.53627289e-18j],\n",
       "         [4.43799975e-24-3.37221175e-24j, 8.95323755e-19-3.53627289e-18j,\n",
       "          8.87386902e-01-3.79843521e-22j]]),\n",
       " 'cdR': matrix([[0.07170314+3.79843521e-22j, 0.        +0.00000000e+00j,\n",
       "          0.        +0.00000000e+00j],\n",
       "         [0.        -0.00000000e+00j, 0.07170314+3.79843521e-22j,\n",
       "          0.        +0.00000000e+00j],\n",
       "         [0.        -0.00000000e+00j, 0.        -0.00000000e+00j,\n",
       "          0.07170314+3.79843521e-22j]]),\n",
       " 'clL': matrix([[1.20207095e-05+0.j, 0.00000000e+00+0.j, 0.00000000e+00+0.j],\n",
       "         [0.00000000e+00-0.j, 1.20207095e-05+0.j, 0.00000000e+00+0.j],\n",
       "         [0.00000000e+00-0.j, 0.00000000e+00-0.j, 1.20207095e-05+0.j]]),\n",
       " 'ceR': matrix([[0.07893789+3.79843521e-22j, 0.        +0.00000000e+00j,\n",
       "          0.        +0.00000000e+00j],\n",
       "         [0.        -0.00000000e+00j, 0.07893789+3.79843521e-22j,\n",
       "          0.        +0.00000000e+00j],\n",
       "         [0.        -0.00000000e+00j, 0.        -0.00000000e+00j,\n",
       "          0.07893789+3.79843521e-22j]]),\n",
       " 'cg': 0j,\n",
       " 'cW': 0j,\n",
       " 'cB': 0j}"
      ]
     },
     "execution_count": 5,
     "metadata": {},
     "output_type": "execute_result"
    }
   ],
   "source": [
    "clow_ur_ll"
   ]
  },
  {
   "cell_type": "markdown",
   "id": "9aef238f-8575-4b39-8533-55cec34f8646",
   "metadata": {},
   "source": [
    "The leading log approximation reproduces well the exact results"
   ]
  },
  {
   "cell_type": "markdown",
   "id": "44c730e0-b0c6-4df9-9c11-84e61bcb080b",
   "metadata": {},
   "source": [
    "If we only retain the yukawa of the top, the beta functions are\n",
    "\n",
    "$$\\beta_{c_{qL}^{ii}} = -y_t^2 c_{uR}^{33}\\delta_{i3} - 8\\alpha_s^2 \\mathrm{tr}(c_{uR})-\\frac{4}{9}\\alpha_1^2 \\mathrm{tr}(c_{uR})$$\n",
    "$$\\beta_{c_{uR}^{ii}} = 2y_t^2(\\delta_{i3}+3)+8\\alpha_s^2 \\mathrm{tr}(c_{uR}) + \\frac{64}{9}\\alpha_1^2 \\mathrm{tr}(c_{uR})$$\n",
    "$$\\beta_{c_{dR}^{ii}} = -6 y_t^2 c_{uR}^{33} + 16 \\alpha_s^2 \\mathrm{tr}(c_{uR}) -\\frac{4}{3}\\alpha_1^2 \\mathrm{tr}(c_{uR}) $$\n",
    "$$\\beta_{c_{\\ell L}^{ii}} =  -4\\alpha_1^2 \\mathrm{tr}(c_{uR})$$\n",
    "$$\\beta_{c_{eR}^{ii}} =  -6 y_t^2 c_{uR}^{33}+4\\alpha_1^2 \\mathrm{tr}(c_{uR})$$"
   ]
  },
  {
   "cell_type": "code",
   "execution_count": 8,
   "id": "deb3779e-7e15-4a68-abef-bbc3834e1fe1",
   "metadata": {},
   "outputs": [
    {
     "name": "stderr",
     "output_type": "stream",
     "text": [
      "/home/jorge/.local/lib/python3.12/site-packages/ckmutil/ckm.py:23: ComplexWarning: Casting complex values to real discards the imaginary part\n",
      "  c12 = cos(t12)\n",
      "/home/jorge/.local/lib/python3.12/site-packages/ckmutil/ckm.py:25: ComplexWarning: Casting complex values to real discards the imaginary part\n",
      "  c23 = cos(t23)\n",
      "/home/jorge/.local/lib/python3.12/site-packages/ckmutil/ckm.py:26: ComplexWarning: Casting complex values to real discards the imaginary part\n",
      "  s12 = sin(t12)\n",
      "/home/jorge/.local/lib/python3.12/site-packages/ckmutil/ckm.py:28: ComplexWarning: Casting complex values to real discards the imaginary part\n",
      "  s23 = sin(t23)\n"
     ]
    }
   ],
   "source": [
    "wSM = wilson.classes.SMEFT(wilson.wcxf.WC('SMEFT', 'Warsaw', 5000, {})).C_in\n",
    "yt = wSM['Gu'][2,2]\n",
    "alpha_s = wSM['gs']**2/(4*np.pi)\n",
    "alpha_1 = wSM['gp']**2/(4*np.pi)\n",
    "alpha_2 = wSM['g']**2/(4*np.pi)"
   ]
  },
  {
   "cell_type": "code",
   "execution_count": 15,
   "id": "c728f499-1828-405a-a6f0-66704c631ace",
   "metadata": {},
   "outputs": [
    {
     "name": "stderr",
     "output_type": "stream",
     "text": [
      "/home/jorge/.local/lib/python3.12/site-packages/ckmutil/ckm.py:23: ComplexWarning: Casting complex values to real discards the imaginary part\n",
      "  c12 = cos(t12)\n",
      "/home/jorge/.local/lib/python3.12/site-packages/ckmutil/ckm.py:25: ComplexWarning: Casting complex values to real discards the imaginary part\n",
      "  c23 = cos(t23)\n",
      "/home/jorge/.local/lib/python3.12/site-packages/ckmutil/ckm.py:26: ComplexWarning: Casting complex values to real discards the imaginary part\n",
      "  s12 = sin(t12)\n",
      "/home/jorge/.local/lib/python3.12/site-packages/ckmutil/ckm.py:28: ComplexWarning: Casting complex values to real discards the imaginary part\n",
      "  s23 = sin(t23)\n"
     ]
    }
   ],
   "source": [
    "beta0 = column2dict(beta(5000, dict2column({'cuR': 1.0}))*(16*np.pi**2))"
   ]
  },
  {
   "cell_type": "code",
   "execution_count": 20,
   "id": "9dad321d-a951-4930-9a09-11506223ec46",
   "metadata": {},
   "outputs": [
    {
     "data": {
      "text/plain": [
       "array([-0.1444631 +0.j, -0.14560464+0.j, -0.79858   +0.j])"
      ]
     },
     "execution_count": 20,
     "metadata": {},
     "output_type": "execute_result"
    }
   ],
   "source": [
    "np.diag(beta0['cqL'])"
   ]
  },
  {
   "cell_type": "code",
   "execution_count": 14,
   "id": "d889c94c-ebc3-45c4-b76c-c3e9b63d4256",
   "metadata": {},
   "outputs": [
    {
     "data": {
      "text/plain": [
       "array([-0.1444054 +0.0000000e+00j, -0.1444054 +0.0000000e+00j,\n",
       "       -0.79857999-1.7959203e-16j])"
      ]
     },
     "execution_count": 14,
     "metadata": {},
     "output_type": "execute_result"
    }
   ],
   "source": [
    "-yt**2*np.array([0,0,1]) + (-8*alpha_s**2*3-4/9*alpha_1**2*3)*np.array([1, 1, 1])"
   ]
  },
  {
   "cell_type": "code",
   "execution_count": 23,
   "id": "706e1a53-5833-48e4-9e56-aed50b73867e",
   "metadata": {},
   "outputs": [
    {
     "data": {
      "text/plain": [
       "array([4.07926125-1.69402742e-20j, 4.07927868-1.69402742e-20j,\n",
       "       5.39010688-1.69402742e-20j])"
      ]
     },
     "execution_count": 23,
     "metadata": {},
     "output_type": "execute_result"
    }
   ],
   "source": [
    "np.diag(beta0['cuR'])"
   ]
  },
  {
   "cell_type": "code",
   "execution_count": 24,
   "id": "41e1b234-d380-4e42-a306-a3d92b072b62",
   "metadata": {},
   "outputs": [
    {
     "data": {
      "text/plain": [
       "array([4.07171952+1.07755218e-15j, 4.07171952+1.07755218e-15j,\n",
       "       5.38006869+1.43673624e-15j])"
      ]
     },
     "execution_count": 24,
     "metadata": {},
     "output_type": "execute_result"
    }
   ],
   "source": [
    "2*yt**2*np.array([3, 3, 4]) + (8*alpha_s**2*3+64/9*alpha_1**2*3)*np.array([1, 1, 1])"
   ]
  },
  {
   "cell_type": "code",
   "execution_count": 25,
   "id": "78b5321d-5385-4de9-9534-e59049119017",
   "metadata": {},
   "outputs": [
    {
     "data": {
      "text/plain": [
       "array([-3.78773049+1.69402742e-20j, -3.78773049+1.69402742e-20j,\n",
       "       -3.78773049+1.69402742e-20j])"
      ]
     },
     "execution_count": 25,
     "metadata": {},
     "output_type": "execute_result"
    }
   ],
   "source": [
    "np.diag(beta0['cdR'])"
   ]
  },
  {
   "cell_type": "code",
   "execution_count": 33,
   "id": "c5c86415-03ad-42e6-a96c-fccf354f8ccc",
   "metadata": {},
   "outputs": [
    {
     "data": {
      "text/plain": [
       "(-3.6369922294344277-1.0775521777416848e-15j)"
      ]
     },
     "execution_count": 33,
     "metadata": {},
     "output_type": "execute_result"
    }
   ],
   "source": [
    "3*16*alpha_s**2-3*4*alpha_1**2/3-6*yt**2"
   ]
  },
  {
   "cell_type": "code",
   "execution_count": 29,
   "id": "f4a92f1c-ff41-4197-bed4-c01637937530",
   "metadata": {},
   "outputs": [
    {
     "data": {
      "text/plain": [
       "16.0"
      ]
     },
     "execution_count": 29,
     "metadata": {},
     "output_type": "execute_result"
    }
   ],
   "source": [
    "12*(3**2-1)/(2*3)"
   ]
  },
  {
   "cell_type": "code",
   "execution_count": 30,
   "id": "71f45b8c-8ec8-4fa4-970a-0e47a907562b",
   "metadata": {},
   "outputs": [
    {
     "data": {
      "text/plain": [
       "array([-0.00135997+0.j, -0.00135997+0.j, -0.00135997+0.j])"
      ]
     },
     "execution_count": 30,
     "metadata": {},
     "output_type": "execute_result"
    }
   ],
   "source": [
    "np.diag(beta0['clL'])"
   ]
  },
  {
   "cell_type": "code",
   "execution_count": 31,
   "id": "b8723da8-db9c-4fa9-bc4c-0bd2145b79dc",
   "metadata": {},
   "outputs": [
    {
     "data": {
      "text/plain": [
       "(-0.0013599734476001464+0j)"
      ]
     },
     "execution_count": 31,
     "metadata": {},
     "output_type": "execute_result"
    }
   ],
   "source": [
    "-4*alpha_1**2*3"
   ]
  },
  {
   "cell_type": "code",
   "execution_count": 32,
   "id": "2a9aa625-536b-4af6-adfb-902c2a239c86",
   "metadata": {},
   "outputs": [
    {
     "data": {
      "text/plain": [
       "array([-3.92714932+1.69402742e-20j, -3.92714932+1.69402742e-20j,\n",
       "       -3.92714932+1.69402742e-20j])"
      ]
     },
     "execution_count": 32,
     "metadata": {},
     "output_type": "execute_result"
    }
   ],
   "source": [
    "np.diag(beta0['ceR'])"
   ]
  },
  {
   "cell_type": "code",
   "execution_count": 34,
   "id": "dc9efb11-30c4-48bf-b966-176e00ab3535",
   "metadata": {},
   "outputs": [
    {
     "data": {
      "text/plain": [
       "(-3.9236875241820512-1.0775521777416848e-15j)"
      ]
     },
     "execution_count": 34,
     "metadata": {},
     "output_type": "execute_result"
    }
   ],
   "source": [
    "-6*yt**2+4*alpha_1**2*3"
   ]
  },
  {
   "cell_type": "code",
   "execution_count": null,
   "id": "05d14c75-1a5e-4712-a65f-18d936405351",
   "metadata": {},
   "outputs": [],
   "source": []
  }
 ],
 "metadata": {
  "kernelspec": {
   "display_name": "Python 3 (ipykernel)",
   "language": "python",
   "name": "python3"
  },
  "language_info": {
   "codemirror_mode": {
    "name": "ipython",
    "version": 3
   },
   "file_extension": ".py",
   "mimetype": "text/x-python",
   "name": "python",
   "nbconvert_exporter": "python",
   "pygments_lexer": "ipython3",
   "version": "3.12.4"
  }
 },
 "nbformat": 4,
 "nbformat_minor": 5
}
